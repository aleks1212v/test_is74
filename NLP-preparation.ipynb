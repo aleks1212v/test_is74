{
 "cells": [
  {
   "cell_type": "markdown",
   "metadata": {},
   "source": []
  },
  {
   "cell_type": "code",
   "execution_count": 47,
   "metadata": {},
   "outputs": [],
   "source": [
    "import pandas as pd\n",
    "import numpy as np\n",
    "import re\n",
    "import emoji\n",
    "\n",
    "import pymorphy2\n",
    "from nltk.stem.snowball import SnowballStemmer\n",
    "from nltk.corpus import stopwords"
   ]
  },
  {
   "cell_type": "code",
   "execution_count": 48,
   "metadata": {},
   "outputs": [
    {
     "name": "stdout",
     "output_type": "stream",
     "text": [
      "Index(['Дата подачи заявки', 'Долгота', 'Широта', 'Адрес',\n",
      "       'Категория, присвоенная модератором', 'Описание заявки',\n",
      "       'Последний исполнитель', 'id исполнителя', 'Статус заявки'],\n",
      "      dtype='object')\n"
     ]
    },
    {
     "data": {
      "text/html": [
       "<div>\n",
       "<style scoped>\n",
       "    .dataframe tbody tr th:only-of-type {\n",
       "        vertical-align: middle;\n",
       "    }\n",
       "\n",
       "    .dataframe tbody tr th {\n",
       "        vertical-align: top;\n",
       "    }\n",
       "\n",
       "    .dataframe thead th {\n",
       "        text-align: right;\n",
       "    }\n",
       "</style>\n",
       "<table border=\"1\" class=\"dataframe\">\n",
       "  <thead>\n",
       "    <tr style=\"text-align: right;\">\n",
       "      <th></th>\n",
       "      <th>categories</th>\n",
       "      <th>description</th>\n",
       "    </tr>\n",
       "  </thead>\n",
       "  <tbody>\n",
       "    <tr>\n",
       "      <th>0</th>\n",
       "      <td>Благоустройство территории</td>\n",
       "      <td>На трассе Нижнекамск-Чистополь в лесополосе у ...</td>\n",
       "    </tr>\n",
       "    <tr>\n",
       "      <th>1</th>\n",
       "      <td>Благоустройство территории</td>\n",
       "      <td>Во дворе дома Ленинградская 29 отсутствуют пар...</td>\n",
       "    </tr>\n",
       "    <tr>\n",
       "      <th>2</th>\n",
       "      <td>Содержание и ремонт муниципальных дорог</td>\n",
       "      <td>Добрый день! Не осуществляется уборка снега в ...</td>\n",
       "    </tr>\n",
       "  </tbody>\n",
       "</table>\n",
       "</div>"
      ],
      "text/plain": [
       "                                categories  \\\n",
       "0               Благоустройство территории   \n",
       "1               Благоустройство территории   \n",
       "2  Содержание и ремонт муниципальных дорог   \n",
       "\n",
       "                                         description  \n",
       "0  На трассе Нижнекамск-Чистополь в лесополосе у ...  \n",
       "1  Во дворе дома Ленинградская 29 отсутствуют пар...  \n",
       "2  Добрый день! Не осуществляется уборка снега в ...  "
      ]
     },
     "execution_count": 48,
     "metadata": {},
     "output_type": "execute_result"
    }
   ],
   "source": [
    "data = pd.read_csv('tatarstan_message.csv', sep = ';', encoding= 'utf-8')\n",
    "print(data.columns)\n",
    "data = data[['Категория, присвоенная модератором', 'Описание заявки']]\n",
    "data.columns = ['categories', 'description']\n",
    "data.head(3)"
   ]
  },
  {
   "cell_type": "code",
   "execution_count": 49,
   "metadata": {},
   "outputs": [
    {
     "name": "stdout",
     "output_type": "stream",
     "text": [
      "['Благоустройство территории', 'Содержание и ремонт муниципальных дорог', 'Поликлиники и больницы', 'Бездомные животные', 'Парки и скверы', 'Мобильная связь', 'Организация дорожного движения', 'Незаконные азартные игры', 'Санитарное состояние', 'Нарушение в наружной рекламе', 'Работа спортивных объектов', 'Капитальный ремонт', 'Общественный транспорт', 'Воздух', 'Садоводческие, огороднические и дачные некоммерческие объединения', 'Детские сады', 'Доступная среда', 'Жилищное строительство', 'Почта', 'Нарушение правил торговли', 'Пенсионное обеспечение', 'Вода', nan, 'Содержание и ремонт федеральных и республиканских дорог', 'Меры социальной поддержки, предоставляемые органами социальной защиты', 'Cвалки', 'Работа учреждений культуры', 'Пособия безработным', 'Социальное обслуживание', 'Объекты культурного наследия', 'Сельское хозяйство', 'Цифровое телевидение', 'Тех.средства и услуги по реабилитации инвалидов за счет средств федерального бюджета', 'Опека, попечительство', 'Ошибки в названиях и надписях', 'Диспансеризация населения', 'Незаконная добыча полезных ископаемых']\n",
      "37\n"
     ]
    }
   ],
   "source": [
    "categories = []\n",
    "for cat in data.categories:\n",
    "    if cat not in categories:\n",
    "        categories.append(cat)\n",
    "print(categories)\n",
    "print(len(categories))"
   ]
  },
  {
   "cell_type": "code",
   "execution_count": 50,
   "metadata": {},
   "outputs": [
    {
     "name": "stdout",
     "output_type": "stream",
     "text": [
      "0        на трассе нижнекамск чистополь в лесополосе у ...\n",
      "1        во дворе дома ленинградская отсутствуют парков...\n",
      "2        добрый день не осуществляется уборка снега в ц...\n",
      "3        добрый день не осуществляется вывоз мусора с т...\n",
      "4        на данном участке проезжей части от ул халитов...\n",
      "                               ...                        \n",
      "29017    в сентябре по программе развитие садоводческог...\n",
      "29018                                                     \n",
      "29019                                                     \n",
      "29020                                                     \n",
      "29021                                                     \n",
      "Name: description_prep, Length: 29022, dtype: object\n"
     ]
    }
   ],
   "source": [
    "def preprocess_text(text):\n",
    "    def replace_three_or_more(text): #remove dublicate of symbol\n",
    "        pattern = re.compile(r\"(.)\\1{2,}\", re.DOTALL)\n",
    "        return pattern.sub(r\"\\1\\1\", text)\n",
    "\n",
    "    def emo_to_text(text):  \n",
    "        emoticon = {'улыбка шутка' : ['\\:\\)', '\\:\\-\\)', '\\:\\=\\)'],\n",
    "                    'грусть разочарование' : ['\\:\\(', '\\:\\-\\(', '\\:\\=\\('],\n",
    "                    'открытая радость' : ['\\=\\)', '\\=\\-\\)'],\n",
    "                    'усмешка хихиканье' : ['\\:>', '\\:\\->', '\\:\\=>'],\n",
    "                    'улыбка' : ['\\:\\]', '\\:\\-\\]', '\\:\\=\\]'],\n",
    "                    'смех' : ['\\:D', '\\:\\-D', '\\:\\=D'],\n",
    "                    'сильный смех' : ['\\:DD', '\\:\\-DD', '\\:\\=DD'],\n",
    "                    'сарказм' : ['\\:\\}', '\\:\\-\\}', '\\:\\=\\}'],\n",
    "                    'подмигивание заигрывание' : ['\\;\\)', '\\;\\-\\)', '\\;\\=\\)'],\n",
    "                    'молчание' : ['\\:Х', '\\:\\-Х', '\\:\\=Х'],\n",
    "                    'удивленное разочарование' : ['8\\(', '8\\-\\(', '8\\=\\('],\n",
    "                    'изумление' : ['B\\-о', 'B\\=о'],\n",
    "                    'радостное удивление' : ['\\%\\)'],\n",
    "                    'зевота' : ['\\|\\-o', '\\|\\=o'],\n",
    "                    'смущение' : ['\\:S', '\\:-S', '\\:\\=S'],\n",
    "                    'равнодушие скука' : ['\\:\\|', '\\:\\-\\|', '\\:\\=\\|'],\n",
    "                    'недоверие сомнение' : ['\\:\\/', '\\:\\-\\/', '\\:\\=\\/'],\n",
    "                    'дразнящее показывание языка' : ['\\:ь', '\\:\\-ь', '\\:\\=ь'],\n",
    "                    'поцелуй' : ['\\:\\*', '\\:\\^\\*', '\\:\\-Ф'],\n",
    "                    'шалость дурачество' : ['\\:0\\)'],\n",
    "                    'кривая ухмылка' : ['\\:7', '\\:\\-7']}\n",
    "\n",
    "        for key, value in emoticon.items():\n",
    "            text = re.sub(r\"|\".join(value), ' ' + key, text)\n",
    "        return text\n",
    "\n",
    "    try:\n",
    "        text = emo_to_text(text)\n",
    "        text = emoji.demojize(text, delimiters=(\"\", \"\")) #преобразует эмодзи-символы в слова\n",
    "        text = text.lower().replace(\"ё\", \"е\")\n",
    "        text = re.sub('((www\\.[^\\s]+)|(https?://[^\\s]+))', 'URL', text)\n",
    "        text = re.sub('@[^\\s]+', 'USER', text)\n",
    "        text = re.sub('[^a-zA-Zа-яА-Я]+', ' ', text) #удаляем цифры и спецсимволы\n",
    "        text = replace_three_or_more(text) #удаляет дублирование букв, если число букв более 3\n",
    "        text = re.sub(' +', ' ', text)\n",
    "        return text.strip()\n",
    "    except:\n",
    "        #print(f'Слово {text} не прошло препроцессинг')\n",
    "        return ''  \n",
    "\n",
    "data['description_prep'] = data['description'].apply(preprocess_text)\n",
    "print(data['description_prep'])"
   ]
  },
  {
   "cell_type": "code",
   "execution_count": 51,
   "metadata": {},
   "outputs": [
    {
     "name": "stdout",
     "output_type": "stream",
     "text": [
      "0        трасса нижнекамск чистополь лесополоса пгт кам...\n",
      "1        двор дом ленинградский отсутствовать парковочн...\n",
      "2        добрый день осуществляться уборка снег центр г...\n",
      "3        добрый день осуществляться вывоз мусор террито...\n",
      "4        данный участок проезжий часть ул халитовый дом...\n",
      "                               ...                        \n",
      "29017    сентябрь программа развитие садоводческий движ...\n",
      "29018                                                     \n",
      "29019                                                     \n",
      "29020                                                     \n",
      "29021                                                     \n",
      "Name: description_stem, Length: 29022, dtype: object\n"
     ]
    }
   ],
   "source": [
    "#стемминг\n",
    "morph = pymorphy2.MorphAnalyzer() #по умолчанию русский язык\n",
    "stemmer = SnowballStemmer(\"english\")\n",
    "stops = set(stopwords.words(\"english\")) | set(stopwords.words(\"russian\"))\n",
    "\n",
    "ttext_stem = list()\n",
    "for row in data['description_prep']:\n",
    "    words = row.split(' ')\n",
    "    nf_words = list()\n",
    "    for word in words:\n",
    "        try:\n",
    "            #word = word.encode('utf8mb4')\n",
    "            ru_word = re.sub('[^а-яА-Я]+', ' ', word)\n",
    "            en_word = re.sub('[^a-zA-Z]+', ' ', word)\n",
    "            if ru_word == word and word != '': # кириллица\n",
    "                parse_word = morph.parse(word)[0]\n",
    "                nf_word = parse_word.normal_form\n",
    "                nf_words.append(nf_word.strip())\n",
    "            elif en_word == word and word != '': # латиница\n",
    "                nf_word = stemmer.stem(word)\n",
    "                nf_words.append(nf_word.strip())\n",
    "            else:\n",
    "                pass #смешанные слова из кириллицы и латиницы не анализируются\n",
    "        except Exception as e:\n",
    "                print(f'Слово не преобразовано {e}') \n",
    "                continue\n",
    "    nf_words = [w for w in nf_words if not w in stops]\n",
    "    nf_words = ' '.join(nf_words) #ttext_stem\n",
    "    ttext_stem.append(nf_words)\n",
    "if ttext_stem != None:\n",
    "    ttext_stem = pd.Series(ttext_stem) \n",
    "    data['description_stem'] = ttext_stem  \n",
    "    print(data['description_stem'])"
   ]
  },
  {
   "cell_type": "code",
   "execution_count": 52,
   "metadata": {},
   "outputs": [],
   "source": [
    "data.to_csv(\"tatarstan_message_2.csv\", sep = ';')"
   ]
  },
  {
   "cell_type": "code",
   "execution_count": null,
   "metadata": {},
   "outputs": [],
   "source": []
  },
  {
   "cell_type": "code",
   "execution_count": null,
   "metadata": {},
   "outputs": [],
   "source": []
  },
  {
   "cell_type": "code",
   "execution_count": null,
   "metadata": {},
   "outputs": [],
   "source": []
  },
  {
   "cell_type": "code",
   "execution_count": null,
   "metadata": {},
   "outputs": [],
   "source": []
  },
  {
   "cell_type": "code",
   "execution_count": null,
   "metadata": {},
   "outputs": [],
   "source": []
  }
 ],
 "metadata": {
  "kernelspec": {
   "display_name": "Python 3",
   "language": "python",
   "name": "python3"
  },
  "language_info": {
   "codemirror_mode": {
    "name": "ipython",
    "version": 3
   },
   "file_extension": ".py",
   "mimetype": "text/x-python",
   "name": "python",
   "nbconvert_exporter": "python",
   "pygments_lexer": "ipython3",
   "version": "3.7.9"
  }
 },
 "nbformat": 4,
 "nbformat_minor": 4
}
